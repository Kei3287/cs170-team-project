{
 "cells": [
  {
   "cell_type": "code",
   "execution_count": 5,
   "metadata": {},
   "outputs": [],
   "source": [
    "import numpy as np\n",
    "import networkx as nx\n",
    "from numpy import genfromtxt\n",
    "import matplotlib.pyplot as plt\n",
    "import sys\n",
    "import random \n"
   ]
  },
  {
   "cell_type": "code",
   "execution_count": 6,
   "metadata": {},
   "outputs": [],
   "source": [
    "def generate_path(list_of_locations, starting_car_location, adjacency_matrix):\n",
    "    path = []\n",
    "    \n",
    "    starting_index = list_of_locations.index(starting_car_location)\n",
    "    next_index = adjacency_matrix[starting_index].index(random.choice([i for i in adjacency_matrix[starting_index] if i != 0]))\n",
    "    path.append(starting_index)\n",
    "    path.append(next_index)\n",
    "    while next_index != starting_index:\n",
    "        next_index = adjacency_matrix[next_index].index(random.choice([i for i in adjacency_matrix[next_index] if i != 0]))\n",
    "        path.append(next_index)\n",
    "        \n",
    "    return path\n",
    "\n",
    "def generate_drop_off_locations(path):\n",
    "    path_length = len(path)\n",
    "    # pick a random number of locations as drop-off locations\n",
    "    drop_off_locations = random.sample(path, random.randrange(1, path_length - 1))\n",
    "    return drop_off_locations\n",
    "\n",
    "def find_closest_dropoff_location_to_ta(drop_off_locations, list_of_locations, list_of_homes, adjacency_matrix):\n",
    "    num_vertices = len(adjacency_matrix[0])\n",
    "    \n",
    "    # filling in a dictionary mapping TA home to [dropoff location, dropoff distance]\n",
    "    dict_ta_to_dropoff_location = {}\n",
    "    for h in list_of_homes:\n",
    "        dict_ta_to_dropoff_location[list_of_locations.index(h)] = [0, sys.maxsize]\n",
    "    \n",
    "    # finding the closest dropoff location to each TA's home using previous dictionary dict_ta_to_dropoff_location\n",
    "    for d in drop_off_locations:\n",
    "        for h in list_of_homes:\n",
    "            home_index = list_of_locations.index(h)\n",
    "            dist_d_to_h = dijkstra(num_vertices, adjacency_matrix, d)[home_index]\n",
    "            if dist_d_to_h < dict_ta_to_dropoff_location[home_index][1]:\n",
    "                dict_ta_to_dropoff_location[home_index] = [d, dist_d_to_h]\n",
    "    \n",
    "    # converting dict_ta_to_dropoff_location to output dictionary format\n",
    "    ret_dict = {}  # dict mapping dropoff_location to list_of_TAs\n",
    "    for h in dict_ta_to_dropoff_location:\n",
    "        if dict_ta_to_dropoff_location[h][0] in ret_dict:\n",
    "            ret_dict[dict_ta_to_dropoff_location[h][0]].append(h)\n",
    "        else:\n",
    "            ret_dict[dict_ta_to_dropoff_location[h][0]] = [h]\n",
    "    \n",
    "    return ret_dict"
   ]
  },
  {
   "cell_type": "code",
   "execution_count": 7,
   "metadata": {},
   "outputs": [],
   "source": [
    "def minDistance(num_vertices, dist, sptSet):\n",
    "\n",
    "    min = sys.maxsize\n",
    "\n",
    "    for v in range(num_vertices):\n",
    "        if dist[v] < min and sptSet[v] == False:\n",
    "            min = dist[v]\n",
    "            min_index = v\n",
    "\n",
    "    return min_index\n",
    "\n",
    "# returns array that represents distances from src to each other vertex (by index) in graph \n",
    "def dijkstra(num_vertices, adjacency_matrix, src):    \n",
    "    dist = [sys.maxsize] * num_vertices\n",
    "    dist[src] = 0\n",
    "    sptSet = [False] * num_vertices\n",
    "\n",
    "    for cout in range(num_vertices):\n",
    "        u = minDistance(num_vertices, dist, sptSet)\n",
    "        sptSet[u] = True\n",
    "        \n",
    "        for v in range(num_vertices):\n",
    "            if adjacency_matrix[u][v] > 0 and sptSet[v] == False and \\\n",
    "                dist[v] > dist[u] + adjacency_matrix[u][v]:\n",
    "                dist[v] = dist[u] + adjacency_matrix[u][v]\n",
    "\n",
    "    return dist"
   ]
  },
  {
   "cell_type": "code",
   "execution_count": 8,
   "metadata": {},
   "outputs": [
    {
     "data": {
      "text/plain": [
       "([0, 2, 0], {2: [2, 1]}, 12.338000000000001)"
      ]
     },
     "execution_count": 8,
     "metadata": {},
     "output_type": "execute_result"
    }
   ],
   "source": [
    "def solve(list_of_locations, list_of_homes, starting_car_location, adjacency_matrix, params=[]):\n",
    "    \n",
    "    total_energy = sys.maxsize\n",
    "    final_path = []\n",
    "    final_ret_dict = {}\n",
    "    \n",
    "    # 100 random iterations\n",
    "    for i in range(10000):\n",
    "\n",
    "        # generating a random path first (Can be optimized by choosing paths from MST and using DFS)\n",
    "        path = generate_path(list_of_locations, starting_car_location, adjacency_matrix)\n",
    "\n",
    "        # generate random drop off locations\n",
    "        drop_off_locations = generate_drop_off_locations(path)\n",
    "        \n",
    "        # generate dictionary mapping drop off locations to list of ta's\n",
    "        ret_dict = find_closest_dropoff_location_to_ta(drop_off_locations, list_of_locations, list_of_homes, adjacency_matrix)\n",
    "    \n",
    "        curr_total_energy = 0\n",
    "    \n",
    "        # finding total_energy from just driving\n",
    "        for p1 in range(len(path) - 1):\n",
    "            curr_total_energy += 0.667 * adjacency_matrix[path[p1]][path[p1+1]]\n",
    "    \n",
    "        # finding total_energy from ta's walking as well\n",
    "        for k in ret_dict:\n",
    "            for v in ret_dict[k]:\n",
    "                curr_total_energy += adjacency_matrix[k][v]\n",
    "                \n",
    "        if curr_total_energy < total_energy:\n",
    "            # update path and ret_dict\n",
    "            total_energy = curr_total_energy\n",
    "            final_path = path\n",
    "            final_ret_dict = ret_dict\n",
    "        \n",
    "    \n",
    "    return final_path, final_ret_dict, total_energy\n",
    "    \n",
    "\n",
    "solve([\"Soda\", \"location1\", \"location2\", \"location3\"],\n",
    "      [\"location2\", \"location1\"],\n",
    "      \"Soda\",\n",
    "      [[0, 9, 7, 5],\n",
    "       [9, 0, 3, 7],\n",
    "       [7, 3, 0, 5],\n",
    "       [5, 7, 5, 6]])"
   ]
  },
  {
   "cell_type": "code",
   "execution_count": null,
   "metadata": {},
   "outputs": [],
   "source": []
  }
 ],
 "metadata": {
  "kernelspec": {
   "display_name": "Python 3",
   "language": "python",
   "name": "python3"
  },
  "language_info": {
   "codemirror_mode": {
    "name": "ipython",
    "version": 3
   },
   "file_extension": ".py",
   "mimetype": "text/x-python",
   "name": "python",
   "nbconvert_exporter": "python",
   "pygments_lexer": "ipython3",
   "version": "3.7.3"
  }
 },
 "nbformat": 4,
 "nbformat_minor": 2
}
