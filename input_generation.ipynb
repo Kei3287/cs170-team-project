{
 "cells": [
  {
   "cell_type": "code",
   "execution_count": 1,
   "metadata": {},
   "outputs": [],
   "source": [
    "import numpy as np\n",
    "import matplotlib.pyplot as plt\n",
    "%matplotlib inline"
   ]
  },
  {
   "cell_type": "code",
   "execution_count": 44,
   "metadata": {},
   "outputs": [],
   "source": [
    "def input_generator(num_location, num_home, starting_location):\n",
    "    print(num_location)\n",
    "    print(num_home)\n",
    "    \n",
    "    p = 0.6\n",
    "    locations = [starting_location]\n",
    "    homes = []\n",
    "    edge_matrix = np.ones((num_location+1, num_location+1))\n",
    "    for i in range(num_location):\n",
    "        locations.append(\"location {}\".format(i+1))\n",
    "        for j in range(num_location+1):\n",
    "            if i == j : \n",
    "                edge_matrix[i][j] = 0\n",
    "            if j > i : \n",
    "                continue\n",
    "            elif np.random.uniform(0,1) > p:\n",
    "                edge_matrix[i][j] = 0\n",
    "                edge_matrix[j][i] = 0\n",
    "    for i in range(num_home):\n",
    "        homes.append(\"home {}\".format(i+1))\n",
    "    \n",
    "    print(locations)\n",
    "    print(homes)\n",
    "    print(edge_matrix)"
   ]
  },
  {
   "cell_type": "code",
   "execution_count": null,
   "metadata": {},
   "outputs": [],
   "source": []
  },
  {
   "cell_type": "code",
   "execution_count": 47,
   "metadata": {},
   "outputs": [
    {
     "name": "stdout",
     "output_type": "stream",
     "text": [
      "4\n",
      "3\n",
      "['Soda', 'location 1', 'location 2', 'location 3', 'location 4']\n",
      "['home 1', 'home 2', 'home 3']\n",
      "[[0. 0. 1. 1. 1.]\n",
      " [0. 0. 0. 1. 1.]\n",
      " [1. 0. 0. 0. 1.]\n",
      " [1. 1. 0. 0. 1.]\n",
      " [1. 1. 1. 1. 1.]]\n"
     ]
    }
   ],
   "source": [
    "input_generator(4, 3, \"Soda\")"
   ]
  },
  {
   "cell_type": "code",
   "execution_count": null,
   "metadata": {},
   "outputs": [],
   "source": []
  },
  {
   "cell_type": "code",
   "execution_count": null,
   "metadata": {},
   "outputs": [],
   "source": []
  }
 ],
 "metadata": {
  "kernelspec": {
   "display_name": "Python 3",
   "language": "python",
   "name": "python3"
  },
  "language_info": {
   "codemirror_mode": {
    "name": "ipython",
    "version": 3
   },
   "file_extension": ".py",
   "mimetype": "text/x-python",
   "name": "python",
   "nbconvert_exporter": "python",
   "pygments_lexer": "ipython3",
   "version": "3.7.3"
  }
 },
 "nbformat": 4,
 "nbformat_minor": 2
}
