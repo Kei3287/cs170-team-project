{
 "cells": [
  {
   "cell_type": "code",
   "execution_count": 16,
   "metadata": {},
   "outputs": [],
   "source": [
    "import numpy as np\n",
    "import networkx as nx\n",
    "from numpy import genfromtxt\n",
    "import matplotlib.pyplot as plt\n",
    "import sys"
   ]
  },
  {
   "cell_type": "code",
   "execution_count": 411,
   "metadata": {},
   "outputs": [],
   "source": [
    "\n",
    "class RGraph():\n",
    "    def __init__(self, num_location, num_home, starting_location):\n",
    "        self.num_location = num_location\n",
    "        self.num_home = num_home\n",
    "        self.starting_location = starting_location\n",
    "        self.edge_matrix = np.zeros((self.num_location, self.num_location))\n",
    "        self.visited = {}\n",
    "        self.locations = [starting_location]\n",
    "        self.homes = []\n",
    "\n",
    "    def check_if_connected(self):\n",
    "        return all([value for value in self.visited.values()])\n",
    "\n",
    "    def dfs(self, i):\n",
    "        self.visited[i] = True\n",
    "        for j in range(self.num_location):\n",
    "            if self.edge_matrix[i][j] != 0 and not self.visited[j]:\n",
    "                self.dfs(j)\n",
    "\n",
    "\n",
    "    def generate_random_edge(self):\n",
    "        return np.around(np.random.uniform(0,10), 5)\n",
    "    def random_input_generator(self):\n",
    "\n",
    "        p1 = 1\n",
    "        p2 = 1\n",
    "        p3 = 0\n",
    "        for i in range(self.num_location-1):\n",
    "            self.locations.append(\"location{}\".format(i+1))\n",
    "\n",
    "        for i in range(self.num_location):\n",
    "            for j in range(self.num_location):\n",
    "                if j > i or i == j :\n",
    "                    continue\n",
    "                if np.random.uniform(0,1) < p1:\n",
    "                    if np.random.uniform(0,1) < p2:\n",
    "                        rand_num = self.generate_random_edge()\n",
    "                        self.edge_matrix[i][j], self.edge_matrix[j][i] = rand_num, rand_num\n",
    "                        if np.random.exponential(0.5) < p3:\n",
    "                            self.edge_matrix[i][j], self.edge_matrix[j][i] = 0, 0\n",
    "                            indexi = round(np.random.uniform(0,self.num_location))\n",
    "                            indexj = round(np.random.uniform(0,self.num_location))\n",
    "                            self.edge_matrix[indexi-1][indexj-1], self.edge_matrix[indexj-1][indexi-1] = 0, 0\n",
    "\n",
    "        # check if the graph is connected\n",
    "        self.visited = dict([(i, False) for i in range(self.num_location)])\n",
    "        self.dfs(0)\n",
    "        if self.check_if_connected():\n",
    "            print('connected')\n",
    "        else:\n",
    "            print('not connected')\n",
    "\n",
    "        self.homes = self.locations.copy()[1:self.num_home+1]\n",
    "        np.random.shuffle(self.homes)\n",
    "\n",
    "        self.generate_input()\n",
    "\n",
    "    def generate_input(self):\n",
    "        print(self.num_location)\n",
    "        print(self.num_home)\n",
    "\n",
    "        [print(v, end =  ' ') for v in self.locations]\n",
    "        print()\n",
    "        [print(h, end =  ' ') for h in self.homes]\n",
    "        print()\n",
    "        print(self.starting_location)\n",
    "        for i in range(self.num_location):\n",
    "            for j in range(self.num_location):\n",
    "                if self.edge_matrix[i][j] == 0:\n",
    "                    print(\"x\", end = ' ')\n",
    "                else:\n",
    "                    print(str(self.edge_matrix[i][j]), end = ' ')\n",
    "            print()\n",
    "            \n",
    "    def generate_output(self):\n",
    "        print(\"Soda\")\n",
    "        print(1)\n",
    "        print(\"Soda\", end = ' ')\n",
    "        for h in self.homes:\n",
    "            print(h, end = ' ')\n",
    "        "
   ]
  },
  {
   "cell_type": "code",
   "execution_count": 490,
   "metadata": {
    "scrolled": true
   },
   "outputs": [
    {
     "name": "stdout",
     "output_type": "stream",
     "text": [
      "connected\n",
      "6\n",
      "1\n",
      "Soda location1 location2 location3 location4 location5 \n",
      "location1 \n",
      "Soda\n",
      "x 2.582 2.86764 5.9223 6.27788 6.02128 \n",
      "2.582 x 9.38986 3.65189 2.13982 4.00603 \n",
      "2.86764 9.38986 x 3.58811 1.34257 4.21968 \n",
      "5.9223 3.65189 3.58811 x 0.10314 7.4179 \n",
      "6.27788 2.13982 1.34257 0.10314 x 1.83803 \n",
      "6.02128 4.00603 4.21968 7.4179 1.83803 x \n"
     ]
    }
   ],
   "source": [
    "g = RGraph(6, 1, \"Soda\")\n",
    "g.random_input_generator()"
   ]
  },
  {
   "cell_type": "code",
   "execution_count": 480,
   "metadata": {},
   "outputs": [
    {
     "name": "stdout",
     "output_type": "stream",
     "text": [
      "Soda\n",
      "1\n",
      "Soda location1 "
     ]
    }
   ],
   "source": [
    "g.generate_output()"
   ]
  },
  {
   "cell_type": "code",
   "execution_count": 496,
   "metadata": {},
   "outputs": [],
   "source": [
    "class MST():\n",
    "    \"\"\"\n",
    "    reference: https://www.geeksforgeeks.org/prims-algorithm-simple-implementation-for-adjacency-matrix-representation/\n",
    "    \"\"\"\n",
    "    def __init__(self, list_of_locations, list_of_homes, adjacency_matrix, starting_car_location):\n",
    "        self.V = list_of_locations\n",
    "        self.num_location = len(self.V)\n",
    "        self.adjacency_matrix = adjacency_matrix\n",
    "        self.starting_car_location = starting_car_location\n",
    "        self.inMST = [False] * self.num_location\n",
    "        self.start_index = list_of_locations.index(starting_car_location)\n",
    "        self.inMST[self.start_index] = True\n",
    "#         self.mst = [[0 for i in range(self.num_location)] for j in range(self.num_location)]\n",
    "        self.mst = np.zeros((self.num_location, self.num_location))\n",
    "        \n",
    "        self.visited = {}\n",
    "        self.list_of_homes = list_of_homes\n",
    "        self.indices_to_remove = []\n",
    "\n",
    "\n",
    "    def is_valid_edge(self, u, v):\n",
    "        if u == v:\n",
    "            return False\n",
    "        if self.inMST[u] == False and self.inMST[v] == False:\n",
    "            return False\n",
    "        elif self.inMST[u] == True and self.inMST[v] == True:\n",
    "            return False\n",
    "        return True\n",
    "\n",
    "    def construct_mst(self):\n",
    "        edge_count = 0\n",
    "        while edge_count < self.num_location - 1:\n",
    "            min_val = sys.maxsize\n",
    "            a = -1\n",
    "            b = -1\n",
    "            for i in range(self.num_location):\n",
    "                for j in range(self.num_location):\n",
    "                    if self.adjacency_matrix[i][j] < min_val and self.adjacency_matrix[i][j] != 0:\n",
    "                        if self.is_valid_edge(i, j):\n",
    "                            min_val = self.adjacency_matrix[i][j]\n",
    "                            a = i\n",
    "                            b = j\n",
    "            if a != -1 and b != -1:\n",
    "                self.inMST[a] = self.inMST[b] = True\n",
    "                self.mst[a][b] = min_val\n",
    "                self.mst[b][a] = min_val\n",
    "            edge_count += 1\n",
    "        return self.mst\n",
    "    \n",
    "    def remove_non_TA_homes(self):\n",
    "        self.dfs(self.start_index)\n",
    "        self.indices_to_remove.sort(reverse=True)\n",
    "        print(self.indices_to_remove)\n",
    "        for i in self.indices_to_remove:\n",
    "            for j in range(self.num_location):\n",
    "                self.mst[j].pop(i)\n",
    "            self.mst.pop(i)\n",
    "            self.V.pop(i)\n",
    "            self.num_location -= 1\n",
    "        return self.mst\n",
    "    \n",
    "    def dfs(self, start):\n",
    "        self.visited = dict([(i, False) for i in range(self.num_location)])\n",
    "        stack = []\n",
    "        stack.append(start)\n",
    "        list_of_leafs = []\n",
    "        while (len(stack)):\n",
    "            s = stack[-1]\n",
    "            stack.pop()\n",
    "            \n",
    "            self.visited[s] = True\n",
    "            leaf = True\n",
    "            for i in range(self.num_location):\n",
    "                if not self.visited[i]:\n",
    "                    leaf = False\n",
    "                    stack.append(i)\n",
    "                    \n",
    "            if self.is_leaf(s, leaf, stack) and not self.is_TA_home(s):\n",
    "                self.indices_to_remove.append(s)\n",
    "                \n",
    "    def is_leaf(self, i, leaf, stack):\n",
    "        if leaf:\n",
    "            return True\n",
    "        for j in range(self.num_location):\n",
    "            if j not in stack and self.mst[i][j] != 0 and j not in self.indices_to_remove:\n",
    "                return False\n",
    "        return True\n",
    "    \n",
    "    def is_TA_home(self, i):\n",
    "        return i == self.start_index or self.V[i] in self.list_of_homes"
   ]
  },
  {
   "cell_type": "code",
   "execution_count": 482,
   "metadata": {},
   "outputs": [
    {
     "name": "stdout",
     "output_type": "stream",
     "text": [
      "[[0, 0, 0.68587, 0, 0, 0], [0, 0, 3.1627, 1.07826, 0, 1.53551], [0, 0, 0, 0, 0, 0], [0, 0, 0, 0, 0, 0], [0, 0, 0, 0, 0, 1.15054], [0, 0, 0, 0, 0, 0]]\n",
      "0\n"
     ]
    }
   ],
   "source": [
    "mst_obj = MST(g.locations, g.homes, g.edge_matrix, g.starting_location)\n",
    "print(mst_obj.construct_mst())\n",
    "print(mst_obj.start_index)\n"
   ]
  },
  {
   "cell_type": "code",
   "execution_count": 484,
   "metadata": {},
   "outputs": [],
   "source": [
    "# mst_obj.remove_non_TA_homes()\n",
    "# print(mst_obj.mst)"
   ]
  },
  {
   "cell_type": "code",
   "execution_count": 497,
   "metadata": {},
   "outputs": [],
   "source": [
    "class tspApproximation():\n",
    "    def __init__(self, list_of_locations, list_of_homes, adjacency_matrix, starting_car_location):\n",
    "        self.V = list_of_locations\n",
    "        self.list_of_homes = list_of_homes\n",
    "        self.num_location = len(self.V)\n",
    "        self.mst = adjacency_matrix\n",
    "        self.starting_car_location = starting_car_location\n",
    "        self.start_index = list_of_locations.index(starting_car_location)        \n",
    "        self.visited = self.visited = dict([(i, False) for i in range(self.num_location)])\n",
    "        self.dfs_tour = []\n",
    "        \n",
    "    def dfs(self, i):\n",
    "        self.visited[i] = True\n",
    "        self.dfs_tour.append(i)\n",
    "        for j in range(self.num_location):\n",
    "            if self.mst[i][j] != 0 and not self.visited[j]:\n",
    "                self.dfs(j)\n",
    "                self.dfs_tour.append(i)\n",
    "        \n",
    "    def find_tour(self):\n",
    "        self.dfs(self.start_index)\n",
    "        return self.dfs_tour\n",
    "        \n"
   ]
  },
  {
   "cell_type": "code",
   "execution_count": 498,
   "metadata": {},
   "outputs": [
    {
     "data": {
      "text/plain": [
       "[0, 2, 0]"
      ]
     },
     "execution_count": 498,
     "metadata": {},
     "output_type": "execute_result"
    }
   ],
   "source": [
    "approximator = tspApproximation(mst_obj.V, mst_obj.list_of_homes, mst_obj.mst, mst_obj.starting_car_location)\n",
    "approximator.find_tour()"
   ]
  },
  {
   "cell_type": "code",
   "execution_count": null,
   "metadata": {},
   "outputs": [],
   "source": []
  },
  {
   "cell_type": "code",
   "execution_count": 499,
   "metadata": {},
   "outputs": [
    {
     "name": "stdout",
     "output_type": "stream",
     "text": [
      "connected\n",
      "6\n",
      "1\n",
      "Soda location1 location2 location3 location4 location5 \n",
      "location1 \n",
      "Soda\n",
      "x 7.85693 6.90366 0.95115 2.35193 2.12497 \n",
      "7.85693 x 2.98526 8.03658 4.06659 4.50544 \n",
      "6.90366 2.98526 x 4.79744 4.24109 8.50837 \n",
      "0.95115 8.03658 4.79744 x 7.32516 5.25505 \n",
      "2.35193 4.06659 4.24109 7.32516 x 5.7245 \n",
      "2.12497 4.50544 8.50837 5.25505 5.7245 x \n",
      "original mst\n",
      "[[0.      0.      0.      0.95115 2.35193 2.12497]\n",
      " [0.      0.      2.98526 0.      4.06659 0.     ]\n",
      " [0.      2.98526 0.      0.      0.      0.     ]\n",
      " [0.95115 0.      0.      0.      0.      0.     ]\n",
      " [2.35193 4.06659 0.      0.      0.      0.     ]\n",
      " [2.12497 0.      0.      0.      0.      0.     ]]\n",
      "0\n",
      "[0, 3, 0, 4, 1, 2, 1, 4, 0, 5, 0]\n"
     ]
    }
   ],
   "source": [
    "def solve():\n",
    "    g = RGraph(6, 1, \"Soda\")\n",
    "    g.random_input_generator()\n",
    "    mst_obj = MST(g.locations, g.homes, g.edge_matrix, g.starting_location)\n",
    "    print('original mst')\n",
    "    print(mst_obj.construct_mst())\n",
    "    print(mst_obj.start_index)\n",
    "#     print('compressed mst')\n",
    "    # mst_obj.remove_non_TA_homes()\n",
    "    # print(mst_obj.mst)\n",
    "    approximator = tspApproximation(mst_obj.V, mst_obj.list_of_homes, mst_obj.mst, mst_obj.starting_car_location)\n",
    "    tour = approximator.find_tour()\n",
    "    print(tour)\n",
    "    \n",
    "solve()"
   ]
  },
  {
   "cell_type": "code",
   "execution_count": null,
   "metadata": {},
   "outputs": [],
   "source": []
  },
  {
   "cell_type": "code",
   "execution_count": 186,
   "metadata": {
    "scrolled": false
   },
   "outputs": [
    {
     "name": "stdout",
     "output_type": "stream",
     "text": [
      "{0: 'Soda', 1: 'location1', 2: 'location2', 3: 'location3', 4: 'location4', 5: 'location5'}\n"
     ]
    },
    {
     "name": "stderr",
     "output_type": "stream",
     "text": [
      "/Users/watanabekeisuke/anaconda3/lib/python3.7/site-packages/networkx/drawing/nx_pylab.py:611: MatplotlibDeprecationWarning: isinstance(..., numbers.Number)\n",
      "  if cb.is_numlike(alpha):\n"
     ]
    },
    {
     "data": {
      "image/png": "[encoded data removed]",
      "text/plain": [
       "<Figure size 432x288 with 1 Axes>"
      ]
     },
     "metadata": {},
     "output_type": "display_data"
    },
    {
     "name": "stdout",
     "output_type": "stream",
     "text": [
      "[[0.      3.83326 4.12914 0.27888 1.57139 5.48295]\n",
      " [3.83326 0.      6.6738  3.30613 2.94362 8.71876]\n",
      " [4.12914 6.6738  0.      5.62488 7.8692  5.0246 ]\n",
      " [0.27888 3.30613 5.62488 0.      5.82589 0.47844]\n",
      " [1.57139 2.94362 7.8692  5.82589 0.      4.09364]\n",
      " [5.48295 8.71876 5.0246  0.47844 4.09364 0.     ]]\n"
     ]
    }
   ],
   "source": [
    "def show_graph(adjacency_matrix, locations):\n",
    "    labeldict = {i:label for i, label in enumerate(locations)}\n",
    "    print(labeldict)\n",
    "    rows, cols = np.where(adjacency_matrix != 0)\n",
    "    edges = zip(rows.tolist(), cols.tolist())\n",
    "    gr = nx.Graph()\n",
    "    gr.add_edges_from(edges)\n",
    "    nx.draw(gr, node_size=5, labels=labeldict, with_labels = True, font_size=3)\n",
    "    plt.show()\n",
    "\n",
    "show_graph(g.edge_matrix, g.locations)\n",
    "print(g.edge_matrix)"
   ]
  },
  {
   "cell_type": "code",
   "execution_count": null,
   "metadata": {},
   "outputs": [],
   "source": []
  },
  {
   "cell_type": "code",
   "execution_count": null,
   "metadata": {},
   "outputs": [],
   "source": []
  },
  {
   "cell_type": "code",
   "execution_count": null,
   "metadata": {},
   "outputs": [],
   "source": []
  }
 ],
 "metadata": {
  "kernelspec": {
   "display_name": "Python 3",
   "language": "python",
   "name": "python3"
  },
  "language_info": {
   "codemirror_mode": {
    "name": "ipython",
    "version": 3
   },
   "file_extension": ".py",
   "mimetype": "text/x-python",
   "name": "python",
   "nbconvert_exporter": "python",
   "pygments_lexer": "ipython3",
   "version": "3.7.3"
  }
 },
 "nbformat": 4,
 "nbformat_minor": 2
}
